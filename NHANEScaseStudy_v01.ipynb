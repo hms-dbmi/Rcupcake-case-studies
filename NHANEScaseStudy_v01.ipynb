{
 "cells": [
  {
   "cell_type": "markdown",
   "metadata": {},
   "source": [
    "# NHANES Case study: \n",
    "We will use this example to show the functionality of the Rcupcake package when both, exposure and phenotype variables are present in the dataset.\n",
    "\n",
    "\n",
    "## Introduction\n",
    "The National Health and Nutrition Examination Survey (NHANES) project of the Centers for Disease Control and Prevention (CDC) has been one of the most impactful public health research projects of US. It has direct relevance to nutrition, pediatric growth, environmental exposures and even genetic components of health risk. NHANES comprises measurements over 41,474 individuals whore are selected to be demographically representative by CDC-sponsored researchers.\n",
    "\n",
    "## Main Goal\n",
    "Polychlorinated biphenyls (PCBs) are environmental pollutants that are detectable in the serum.  PCB 153 has the highest serum level among the PCBs. According to epidemiological studies, PCBs are known to be associated with different disorders. The goal of this study is to analyze whether different phenotype variables and phenotype co-occurrence are associated with PCB153 exposure. More specifically, we will answer the following questions:\n",
    "   1. How can we query NHANES data through the BD2K PIC-SURE API RESTful API using R?\n",
    "   2. What are the main demographic characteristics of our study population?\n",
    "   3. What are the main phenotypic characteristics of our study population?\n",
    "   4. Are the phenotype variables statistically associated with PCB153 exposure?\n",
    "   5. What are the phenotype co-occurrences of patients with PCB153 exposure?\n",
    "\n",
    "## Implementation\n",
    "\n",
    "### `Rcupcake` package\n",
    "The Rcupcake package enables the user to:\n",
    "   1. Query through BD2K PIC-SURE RESTful API\n",
    "   2. Explore the data from a demographic point of view\n",
    "   3. Analyze the phenotype variables according to their different values, in terms of prevalence and co-occurrence\n",
    "   4. Perform univariate analyses. \n",
    "   5. Describe the phenotype co-occurrence according to the patient exposure, such as PCB153 exposure\n",
    "\n",
    "\n",
    "## Installation\n",
    "`Rcupcake` is provided through GitHub. In order to install it, `devtools` package - available in CRAN (https://cran.r-project.org/) - is required. To install `devtools` the user must type the following commands in an R session:"
   ]
  },
  {
   "cell_type": "code",
   "execution_count": null,
   "metadata": {
    "collapsed": false
   },
   "outputs": [],
   "source": [
    "#install.packages(\"devtools\", repos=\"https://cran.r-project.org\")\n",
    "library(devtools)"
   ]
  },
  {
   "cell_type": "markdown",
   "metadata": {},
   "source": [
    "We will use `install_github` from `devtools` to install `Rcupcake`. `install_github` will download the package from the hms-dbmi Github repo, untar it and install it in the R libraries. Firstly, you need to ensure that your R environment where your untar application is located. For instance, on a default Jupyterhub configuration, the following command `file.exists(Sys.getenv(\"TAR\"))` will return `FALSE`, and you'll have to indicate the location of the TAR application (`/bin/tar`) on a default Jupyterhub environment:"
   ]
  },
  {
   "cell_type": "code",
   "execution_count": null,
   "metadata": {
    "collapsed": false
   },
   "outputs": [],
   "source": [
    "if (file.exists(Sys.getenv(\"TAR\")) == FALSE)  {\n",
    "    Sys.setenv(TAR = \"/bin/tar\")\n",
    "}"
   ]
  },
  {
   "cell_type": "markdown",
   "metadata": {},
   "source": [
    "Once `devtools` package has been installed, and the TAR environment has been set up, the user can install `Rcupcake` typing the following commands in an R session:"
   ]
  },
  {
   "cell_type": "code",
   "execution_count": null,
   "metadata": {
    "collapsed": false
   },
   "outputs": [],
   "source": [
    "install_github(\"hms-dbmi/Rcupcake\", force = TRUE)\n",
    "library(knitr)\n",
    "library(Rcupcake)"
   ]
  },
  {
   "cell_type": "markdown",
   "metadata": {},
   "source": [
    "## Questions that can be answered using `Rcupcake`\n",
    "\n",
    "\n",
    "### Workflow\n",
    "In order to answer the different questions, the steps will be:\n",
    "\n",
    "    • Data retrieval\n",
    "    • Descriptive demographics analysis\n",
    "    • Descriptive phenotypic analysis\n",
    "    • Univariate analysis\n",
    "    • Phenotype co-occurrence: patients with exposure to PCB153\n",
    "\n",
    "\n",
    "\n",
    "\n",
    "  <section data-markdown>\n",
    "                    <img src=\"./nhanesWorkflow.png\" | width =300/>\n",
    "                </section>"
   ]
  },
  {
   "cell_type": "markdown",
   "metadata": {},
   "source": [
    "# 1. How can we query NHANES data through the BD2K PIC-SURE RESTful API using `Rcupcake`?\n",
    "We first select our study population: the subset of patients with available data regarding the age. Then, we select the variables that we want to retrieve for our analysis.\n",
    "* PCB153\n",
    "* Age\n",
    "* Gender\n",
    "* Diabetes\n",
    "* Arthritis\n",
    "* Liver cancer\n",
    "* Any cancer\n",
    "\n",
    "## 1.1 Start session\n",
    "The first step in order to retrieve the data of interest is to start the session. `start.session` function of the `Rcupcake` package establishes the connection to the database. As input we need to determine the URL of the database (https://nhanes2.hms.harvard.edu/) and the key to access the data. You can find the key under the user profile (https://nhanes2.hms.harvard.edu/transmart/user).\n",
    "\n",
    "\n"
   ]
  },
  {
   "cell_type": "code",
   "execution_count": null,
   "metadata": {
    "collapsed": false
   },
   "outputs": [],
   "source": [
    "sessionEx <- start.session( \n",
    "              url         = \"https://nhanes2.hms.harvard.edu/\", \n",
    "              apiKey      = \"jm0rgubjtvp62mokfutb3slhrl\"\n",
    "              )\n",
    "sessionEx"
   ]
  },
  {
   "cell_type": "markdown",
   "metadata": {},
   "source": [
    "Once the connection has been established the output message will be: _'Start Session: success'_. Otherwise the message: _'Start Session: failed. Please revise your url and apiKey' will appear_.\n",
    "\n",
    "\n",
    "## 1.2 Get children paths\n",
    "The second step consists of retrieving the paths of the location of each variable of interest. This step will allow creating the JSON query to retrieve the data. For this case study, we know that age and gender variables are under the demographics' folder, the PCB153 is under the laboratory/pcb folder and the phenotypes of interest are under the \"/questionnaire/disease\" path.\n",
    "\n",
    "In order to retrieve the paths, we apply the 'get.children' function, determining for each case, the URL of the database (https://nhanes2.hms.harvard.edu/) and the field name to access the data. At the end we will create one unique vector (nhanesVector) with the three previous ones."
   ]
  },
  {
   "cell_type": "code",
   "execution_count": null,
   "metadata": {
    "collapsed": false
   },
   "outputs": [],
   "source": [
    "nhanesDisease <- get.children( \n",
    "   url         = \"https://nhanes2.hms.harvard.edu/\", \n",
    "   fieldname   = \"/nhanes/Demo/questionnaire/questionnaire/disease/\"\n",
    "  )\n",
    "\n",
    "nhanesDemographicPath <- get.children( \n",
    "   url         = \"https://nhanes2.hms.harvard.edu/\", \n",
    "   fieldname   = \"/nhanes/Demo/demographics/demographics/\"\n",
    "  )\n",
    "\n",
    "nhanesPcb <- get.children( \n",
    "   url         = \"https://nhanes2.hms.harvard.edu/\", \n",
    "   fieldname   = \"/nhanes/Demo/laboratory/laboratory/pcbs/\"\n",
    "  )\n",
    "\n",
    "nhanesVector <- c( nhanesDisease, nhanesDemographicPath, nhanesPcb)\n",
    "head(nhanesVector)"
   ]
  },
  {
   "cell_type": "markdown",
   "metadata": {},
   "source": [
    "## 1.3 Build the JSON query\n",
    "Once the paths have been gathered , we can create the JSON query to retrieve the variables of interest. We apply the `my.query` function. The `my.query` function uses as input the URL of the database (https://nhanes2.hms.harvard.edu/), the vector with the `get.children` function output and a vector with the variables of interest.\n",
    "\n",
    "__Note that the first variable of the `myfield` vector will be the one that will be used for the where clause. In this example we want the subset of patients that have available data regarding the age, for this reason the AGE variable is the first item of the vector.__"
   ]
  },
  {
   "cell_type": "code",
   "execution_count": null,
   "metadata": {
    "collapsed": false
   },
   "outputs": [],
   "source": [
    "queryExample <- my.query( myfields  = \"AGE|PCB153|SEX|liver_cancer_self_report|Any Diabetes|Ever arthritis?|Any cancer or malignancy?\", \n",
    "                          myvector  = nhanesVector, \n",
    "                          url       = \"https://nhanes2.hms.harvard.edu/\"\n",
    "              )\n",
    "queryExample"
   ]
  },
  {
   "cell_type": "markdown",
   "metadata": {},
   "source": [
    "## 1.4 Run the query\n",
    "The last step to retrieve the data consists of applying the `my.data` function to the JSON query built previously. Given the URL of the database (https://nhanes2.hms.harvard.edu/) and the JSON query, it generates a `data.frame` object with the query output. We have to select the output format and the path where the output will be located. Remember that by default it will be saved in the working directory."
   ]
  },
  {
   "cell_type": "code",
   "execution_count": null,
   "metadata": {
    "collapsed": false
   },
   "outputs": [],
   "source": [
    "query <- my.data( \n",
    "    query          = queryExample,\n",
    "    url            = \"https://nhanes2.hms.harvard.edu/\", \n",
    "    responseFormat = \"CSV\", \n",
    "    outputPath     = \"./dataNHANES.txt\")\n"
   ]
  },
  {
   "cell_type": "markdown",
   "metadata": {},
   "source": [
    "## 1.5 Transform the data.frame in `cupcakeData` object Run the query\n",
    "Once the data is in a `data.frame` format, it has to be transformed into a `cupcakeData` class object in order to be analyzed with the `Rcupcake` package. Note that our example data contains:\n",
    "* 3 demographic variables: patient_id, Gender and Age.\n",
    "* 4 phenotype variables: diabetes, arthritis, liver cancer and any cancer.\n",
    "* 1 variation variable, (here exposure): PCB153\n",
    "    \n",
    "In order to transform the data.frame into a `cupcakeData` object, we apply the `dataframe2cupcake` function. We need to specify:\n",
    "* `input`: that determines the file with the complete path where the required input file is located.\n",
    "* `phenotypes`: vector that contains phenotype variables, separated by \"|\".\n",
    "* `variants`: vector that contains the names of variations, separated by \"|\".\n",
    "* `age`: vector that contains the age variable name.\n",
    "* `gender`: vector that contains the gender variable name.\n"
   ]
  },
  {
   "cell_type": "code",
   "execution_count": null,
   "metadata": {
    "collapsed": false
   },
   "outputs": [],
   "source": [
    "data2b2 <- dataframe2cupcake( input = \"./dataNHANES.txt\",\n",
    "                              age        = \"AGE\",\n",
    "                              gender     = \"SEX\",\n",
    "                              phenotypes = \"Diabetes|arthritis|liver_cancer|Any.cancer\",\n",
    "                              variants   = \"PCB153\",\n",
    "                              verbose    = TRUE)"
   ]
  },
  {
   "cell_type": "markdown",
   "metadata": {
    "collapsed": false
   },
   "source": [
    "The `data2b2` object generated is a `cupcakeData` object that shows the number of patients (41,474 in this case), the number of phenotypes we are studying (4 in this case) and the number of variations (1 in this case). In order to see how the data looks like,  we can apply the `extract` function as follows."
   ]
  },
  {
   "cell_type": "code",
   "execution_count": null,
   "metadata": {
    "collapsed": false
   },
   "outputs": [],
   "source": [
    "head( extract( data2b2 ) )"
   ]
  },
  {
   "cell_type": "markdown",
   "metadata": {},
   "source": [
    "\n",
    "As we can see the variation variable contains NA and numerical values. We will transform it into a binary variable, applying the next code: ` data2b2` \n"
   ]
  },
  {
   "cell_type": "code",
   "execution_count": null,
   "metadata": {
    "collapsed": false
   },
   "outputs": [],
   "source": [
    "data2b2@iresult$V.PCB153 <- ifelse( is.na(data2b2@iresult$V.PCB153), \"no\", \"yes\" )\n",
    "summary(as.factor(data2b2@iresult$V.PCB153))\n",
    "head( extract( data2b2 ) )"
   ]
  },
  {
   "cell_type": "markdown",
   "metadata": {},
   "source": [
    "# 2. Descriptive demographics analysis with __Rcupcake__\n",
    "\n",
    "Now that we have extracted the data, we can start our analysis. We will first analyze the demographic variables. The function `demographic.summary` describes the demographic characteristics (sex, age) of our study population.\n",
    "\n",
    "Using as input:\n",
    "* `input`: the data2b2 object that we have generated applying the dataframe2cupcake function.\n",
    "* `maleCode`: the symbol which denotes males, in this case male\n",
    "* `femaleCode`: the symbol which denotes females, in this case female\n",
    "\n",
    "As output we retrieve:\n",
    "* A barplot with the age distribution of the whole study population. We can see that our population ages range from 0 to 85 years old. \n",
    "* A pie chart representing the gender distribution. A boxplot showing the age distribution by gender."
   ]
  },
  {
   "cell_type": "code",
   "execution_count": null,
   "metadata": {
    "collapsed": false
   },
   "outputs": [],
   "source": [
    "demographic.summary (input       = data2b2, \n",
    "                    maleCode    = \"male\", \n",
    "                    femaleCode  =\"female\")\n",
    "summary(as.numeric(data2b2@iresult$Age))"
   ]
  },
  {
   "cell_type": "markdown",
   "metadata": {},
   "source": [
    "# 3. Descriptive phenotypic analysis with __Rcupcake__\n",
    "\n",
    "The function `phenotype.summary` performs a descriptive analysis of the phenotypic variables for the whole study population in general, and according to the status of one selected variation.\n",
    "\n",
    "The `phenotype.summary` function requires 2 arguments:\n",
    "* `input`: the data2b2 object, that is a `cupcakeData` object (`dataframe2cupcake` function output – see above).\n",
    "* `variation`: determines the variation of interest, in this case the PCB153 exposure.\n",
    "     \n",
    "Although the function can show the results as figures and tables, we will only retrieve the table for this case study. We will set the `showTable` argument to `TRUE` and the `showFigure` one to `FALSE`."
   ]
  },
  {
   "cell_type": "code",
   "execution_count": null,
   "metadata": {
    "collapsed": false
   },
   "outputs": [],
   "source": [
    "phenotype.summary( input      = data2b2,\n",
    "                   variation  = \"PCB153\", \n",
    "                   showTable  = TRUE, \n",
    "                   showFigure = FALSE)"
   ]
  },
  {
   "cell_type": "markdown",
   "metadata": {},
   "source": [
    "# 4. Univariate analysis with __Rcupcake__\n",
    "\n",
    "The Rcupcake package also allows to perform a comparison two by two of a pair of variables in the `cupcakeData` object by applying the `comparison2b2` function. Applying this function we can easily see that:\n",
    "* diabetes and PCB153 exposure are significantly associated(p-value 1.504e-06) \n",
    "* arthritis and PCB153 exposure are not significantly associated(p-value 0.8105) in the same population.\n"
   ]
  },
  {
   "cell_type": "code",
   "execution_count": null,
   "metadata": {
    "collapsed": false
   },
   "outputs": [],
   "source": [
    "comparison2b2( \n",
    "    input     = data2b2, \n",
    "    variable1 = \"P.Diabetes\",\n",
    "    variable2 = \"V.PCB153\"\n",
    ")"
   ]
  },
  {
   "cell_type": "code",
   "execution_count": null,
   "metadata": {
    "collapsed": false
   },
   "outputs": [],
   "source": [
    "comparison2b2( \n",
    "    input     = data2b2, \n",
    "    variable1 = \"P.arthritis\",\n",
    "    variable2 = \"V.PCB153\"\n",
    ")"
   ]
  },
  {
   "cell_type": "markdown",
   "metadata": {},
   "source": [
    "# 5. Phenotypes co-occurrence and prevalence using __Rcupcake__: patients with PCB153 exposure\n",
    "\n",
    "Finally, we will analyze the co-occurrence between the phenotypes according the exposure status. We will apply the `co.occurrence` function that identifies all the possible phenotype co-occurrence and quantify them according to five different quantification measures (Fisher test, comorbidity score, relative risk, Pearson correlation and odds ratio).\n",
    "\n",
    "_Note that according to the type of study, the user can select the co-occurrence measures needed as well as the cut-off value. As a result of the phenotype co-occurrence analysis, a table containing the different-estimated measurements is obtained._\n",
    "\n",
    "The co.occurrence function requires 6 arguments:\n",
    "* `input`: the `cupcakeData` object, the data2b2 in this case.\n",
    "* `pth`: the path where the file with the phenotype values generated previously is located.\n",
    "* `aggregate`: if all the possible phenotype values want to be considered individually, aggregate must be `FALSE`. Otherwhise, the phenotype values should be manually completed by the user (column yes/no) and aggregate must be `TRUE`. In our case, we will set this argument as `FALSE` because all our phenotypes are yes/no, or nothing when no information is available for the phenotype.\n",
    "* `ageRange`: determines what is the age range of interest for performing the analysis. In our case, we will select all the patients, so we put from 0 to 85.\n",
    "* `gender`: determine what is the gender of interest for the co-occurrence analysis, in this case \"ALL\", because we do not want to distinguish between male and female. \n",
    "* `variation`: determine the variation of interest and its value, in this case PCB153 and yes, because we are interested in those patients that have been exposed to the PCB153.\n",
    "    \n",
    "    \n",
    "The `co.occurrence` function output is a cupcakeResults object. This object shows us the conditions we have selected for the analysis (male and female from 0 to 85 years old and with PCB153 exposure). It also shows us a summary of the phenotype co-occurrence results, the prevalence of our disease of interest, the number of patients that have a PCB153, the range of co-occurrence measures and the number of comorbidities (43 in our case)."
   ]
  },
  {
   "cell_type": "code",
   "execution_count": null,
   "metadata": {
    "collapsed": false
   },
   "outputs": [],
   "source": [
    "genophenoComorPCB153yes <- co.occurrence( \n",
    "              input         = data2b2,\n",
    "              pth           = \".\",\n",
    "              aggregate    = FALSE, \n",
    "              ageRange      = c(0,85),\n",
    "              gender        = \"ALL\", \n",
    "              variation      = c(\"PCB153\", \"yes\")\n",
    "              )\n",
    "genophenoComorPCB153yes"
   ]
  },
  {
   "cell_type": "markdown",
   "metadata": {},
   "source": [
    "If we want to retrieve the table with the specific results for each phenotype co-occurrence, we can apply the `extract` function to the `cupcakeResults` object, as showed here :"
   ]
  },
  {
   "cell_type": "code",
   "execution_count": null,
   "metadata": {
    "collapsed": false
   },
   "outputs": [],
   "source": [
    "head(extract(genophenoComorPCB153yes))"
   ]
  },
  {
   "cell_type": "markdown",
   "metadata": {},
   "source": [
    "We can visualize the results with the cooc.heatmap and cooc.network functions. For this example, we will apply the cooc.heatmap function to visualize those phenotype co-occurrences that appear in at least 10% of the patients.\n",
    "* `input`: the `genophenoComorPCB153yes` object\n",
    "* `representedVariable`: the co-occurrence measurement \n",
    "* `variableCutOff`: the numeric value of the cutOff\n",
    "\n",
    "The `cooc.heatmap` function output is a heatmap. Blue color represents the lower values, yellow color represents the upper values. The representedVariable value is shown in each cell."
   ]
  },
  {
   "cell_type": "code",
   "execution_count": null,
   "metadata": {
    "collapsed": false
   },
   "outputs": [],
   "source": [
    "htmp <- cooc.heatmap( input               = genophenoComorPCB153yes,\n",
    "                      representedVariable = \"PercentagePhenoAB\", \n",
    "                      variableCutOff      = 10, \n",
    "                      lowColor            = \"blue\", \n",
    "                      highColor           = \"yellow\")\n",
    "\n",
    "htmp"
   ]
  },
  {
   "cell_type": "code",
   "execution_count": null,
   "metadata": {
    "collapsed": true
   },
   "outputs": [],
   "source": []
  }
 ],
 "metadata": {
  "kernelspec": {
   "display_name": "R",
   "language": "R",
   "name": "ir"
  },
  "language_info": {
   "codemirror_mode": "r",
   "file_extension": ".r",
   "mimetype": "text/x-r-source",
   "name": "R",
   "pygments_lexer": "r",
   "version": "3.3.1"
  }
 },
 "nbformat": 4,
 "nbformat_minor": 0
}
