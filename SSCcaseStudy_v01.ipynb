{
 "cells": [
  {
   "cell_type": "markdown",
   "metadata": {},
   "source": [
    "# Rcupcake: Case study on Simon Simplex Collection database\n",
    "We will use this example to show the functionality of the Rcupcake package when both, genotype and phenotype variables are present in the dataset.\n",
    "\n",
    "## Introduction\n",
    "Nowadays, autism spectrum disorder (ASD) affects 1 in 68 children, being one of the fastest-growing developmental disabilities. Autism has been associated with a wide range of disorders, and many genes are related to it. However, the nature and extent of the comorbidities of autism at the population level need to be determined.\n",
    "\n",
    "Simon Simplex Collection (SSC) is an autism dataset that contains 2600 simplex families with one proband who has been diagnosed with autism, while the father, the mother and a sibling has not. All information collected during two years have been integrated in one giant system gathering genetic and clinical data.\n",
    "\n",
    "The Rcupcake package allows retrieving the SSC data for a set of phenotypes regarding the presence or not of at least one de novo mutation in a specific gene. In this case study, we will describe how to analyze a set of phenotypes regarding one specific gene; the CHD8 gene (Binary variable: at least one de novo mutation in the gene CHD8). The phenotypes of interest for this case study will be, the head circumference, known to be associated with de novo mutations in CHD8 gene, and loss of language, facial expression and compulsions rituals (known to be associated with ASD). \n",
    "\n",
    "\n",
    "## Main Goal\n",
    "The goal of the study is to investigate whether different phenotypes variables and phenotype co-occurrences are associated with de novo mutation in CHD8 gene. More specifically, we will answer the following questions:\n",
    "1. How can we query SSC data through the BD2K PIC-SURE API RESTful API using R?\n",
    "2. What are the main demographic characteristics of our study population?\n",
    "3. What are the main phenotypic characteristics of our study population?\n",
    "4. Are the phenotype variables statistically associated with CHD8 mutation\n",
    "5. What are the phenotype co-occurrences of patients with de novo CHD8 mutation?\n",
    "    \n",
    "## Implementation\n",
    "\n",
    "### Rcupcake package\n",
    "The Rcupcake package enables the user to:\n",
    "1. Query through BD2K PIC-SURE RESTful API\n",
    "2. Explore the data from a demographic point of view\n",
    "3. Analyze the phenotype variables according to their different values, in terms of prevalence and co-occurrence\n",
    "4. Perform univariate analyses\n",
    "5. Describe the phenotype co-occurrence according to the patient exposure, such as having or not one de novo mutation in a specific gene.\n",
    "    \n",
    "## Installation\n",
    "`Rcupcake` is provided through GitHub. In order to install it, `devtools` package - available in CRAN (https://cran.r-project.org/) - is required. To install `devtools` the user must type the following commands in an R session:"
   ]
  },
  {
   "cell_type": "code",
   "execution_count": null,
   "metadata": {
    "collapsed": false
   },
   "outputs": [],
   "source": [
    "install.packages(\"devtools\",  repos=\"https://cran.r-project.org\")\n",
    "library(knitr)\n",
    "library(devtools)"
   ]
  },
  {
   "cell_type": "markdown",
   "metadata": {},
   "source": [
    "We will use `install_github` from `devtools` to install `Rcupcake`. `install_github` will download the package from the hms-dbmi Github repo, untar it and install it in the R libraries. Firstly, you need to ensure that your R environment where your untar application is located. For instance, on a default Jupyterhub configuration, the following command `file.exists(Sys.getenv(\"TAR\"))` will return `FALSE`, and you'll have to indicate the location of the TAR application (`/bin/tar`) on a default Jupyterhub environment:"
   ]
  },
  {
   "cell_type": "code",
   "execution_count": null,
   "metadata": {
    "collapsed": true
   },
   "outputs": [],
   "source": [
    "if (file.exists(Sys.getenv(\"TAR\")) == FALSE)  {\n",
    "    Sys.setenv(TAR = \"/bin/tar\")\n",
    "}"
   ]
  },
  {
   "cell_type": "code",
   "execution_count": null,
   "metadata": {
    "collapsed": false
   },
   "outputs": [],
   "source": [
    "install_github(\"hms-dbmi/Rcupcake\", force =TRUE)\n",
    "library(Rcupcake)"
   ]
  },
  {
   "cell_type": "markdown",
   "metadata": {},
   "source": [
    "## Questions that can be answered using `Rcupcake`\n",
    "\n",
    "\n",
    "### Workflow\n",
    "In order to answer the different questions, the steps will be:\n",
    "* Data retrieval \n",
    "* Descriptive demographics analysis \n",
    "* Descriptive phenotypic analysis \n",
    "* Univariate analysis. \n",
    "* Phenotype co-occurrence: patients with at least one de novo CHD8 mutation.\n",
    "\n",
    "<img src=\"https://raw.githubusercontent.com/gversmee/Rcupcake-case-studies/master/sscWorkflow.png\" style=\"height:400px;\" />\n",
    "\n"
   ]
  },
  {
   "cell_type": "markdown",
   "metadata": {},
   "source": [
    "#  1. How can we query SSC data through the BD2K PIC-SURE RESTful API using `Rcupcake`?\n",
    "We first select our study population: the subset of patients with available data regarding the variable CHD8 gene (Binary variable: at least one de novo mutation in the gene CHD8). Then, we select the variables that we want to retrieve for our analysis.\n",
    "* CHD8 mutation \n",
    "* Age \n",
    "* Gender\n",
    "* Head Circunference \n",
    "* Loss Language \n",
    "* Facial Expression \n",
    "* Compulsions current\n",
    "\n",
    "## 1.1 Start session\n",
    "The first step in order to retrieve the data of interest is to start the session. `start.session` function of the `Rcupcake` package establishes the connection to the database. As input we need to determine the URL of the database (https://ssc.hms.harvard.edu/) and the key to access the data. In order to access the SSC data, an authorization is required.\n"
   ]
  },
  {
   "cell_type": "code",
   "execution_count": null,
   "metadata": {
    "collapsed": false
   },
   "outputs": [],
   "source": [
    "sessionEx <- start.session( \n",
    "              url         = \"https://ssc.hms.harvard.edu/\", \n",
    "              apiKey      = \"XXXXXXXXXXXXXXXXXXXXXXXXXXXX\"\n",
    "              )\n",
    "sessionEx"
   ]
  },
  {
   "cell_type": "markdown",
   "metadata": {},
   "source": [
    "Once the connection has been established the output message will be: _'Start Session: success'_. Otherwise the message: _'Start Session: failed. Please revise your url and apiKey'_ will appear\n",
    "\n",
    "\n",
    "## 1.2 Get children paths\n",
    "The second step consists of retrieving the paths of the location of each variable of interest. This step will allow to create the JSON query to retrieve the data. For this case study, we know that age and gender variables are under the Demographics folder, the CHD8 gene information is under the \"SSC_wigler_mutations\" folder and the phenotypes of interest are under the \"ssc_commonly_used\" and \"adi_r\" path.\n",
    " \n",
    "In order to retrieve the paths, we apply the `get.children` function, determining for each case, the URL of the database (https://ssc.hms.harvard.edu/) and the field name to access the data. At the end we will create one unique vector (sscVector) with the three previous ones."
   ]
  },
  {
   "cell_type": "code",
   "execution_count": null,
   "metadata": {
    "collapsed": false
   },
   "outputs": [],
   "source": [
    "sscAdirPath <- get.children( \n",
    "   url         = \"https://ssc.hms.harvard.edu/\", \n",
    "   fieldname   = \"/ssc/Demo/SFARI_Simplex_Collection_v15/SFARI_Simplex_Collection_v15/Clinical/adi_r/\"\n",
    "  )\n",
    "\n",
    "sscDemographicPath <- get.children( \n",
    "   url         = \"https://ssc.hms.harvard.edu/\", \n",
    "   fieldname   = \"/ssc/Demo/SFARI_Simplex_Collection_v15/SFARI_Simplex_Collection_v15/Clinical/Demographics/\"\n",
    "  )\n",
    "\n",
    "sscCommonPath <- get.children( \n",
    "   url         = \"https://ssc.hms.harvard.edu/\", \n",
    "   fieldname   = \"/ssc/Demo/SFARI_Simplex_Collection_v15/SFARI_Simplex_Collection_v15/Clinical/ssc_commonly_used/\"\n",
    "  )\n",
    "\n",
    "sscMutationPath <- get.children( \n",
    "   url         = \"https://ssc.hms.harvard.edu/\", \n",
    "   fieldname   = \"/ssc/Demo/SFARI_Simplex_Collection_v15/SFARI_Simplex_Collection_v15/SSC_wigler_mutations/\"\n",
    "  )\n",
    "\n",
    "sscVector <- c( sscAdirPath, sscDemographicPath, sscCommonPath, sscMutationPath)\n",
    "head(sscVector)\n"
   ]
  },
  {
   "cell_type": "markdown",
   "metadata": {},
   "source": [
    "## 1.3 Build the JSON query\n",
    "\n",
    "Once the paths have been gathered, we can create the JSON query to retrieve the variables of interest. We apply `my.query` function. The `my.query` function uses as input the URL of the database (https://ssc.hms.harvard.edu/), the vector with the `get.children` function output and a vector with the variables of interest.\n",
    "\n",
    "__Note that the first variable of the `myfield` vector will be the one that will be used for where clause. In this example we want the subset of patients that have available data regarding the CHD8 de novo mutation, for this reason the CHD8 variable is the first item of the vector.__"
   ]
  },
  {
   "cell_type": "code",
   "execution_count": null,
   "metadata": {
    "collapsed": false
   },
   "outputs": [],
   "source": [
    "queryExample <- my.query( myfields  = \"CHD8|SEX_CD|AGE_IN_YEARS_NUM|head_circumference|q70_compulsions_current|q57_facial_expressions_current|q11_loss_language\", \n",
    "                          myvector  = sscVector, \n",
    "                          url       = \"https://ssc.hms.harvard.edu/\"\n",
    "              )\n",
    "queryExample"
   ]
  },
  {
   "cell_type": "markdown",
   "metadata": {},
   "source": [
    "## 1.4 Run the query\n",
    "\n",
    "The last step to retrieve the data consists of applying the `my.data` function to the JSON query built previously. Given the URL of the database (https://ssc.hms.harvard.edu/) and the JSON query, it generates a data.frame object with the query output. We have to select the output format and the path where the output will be located. Remember that by default it will be saved in the working directory."
   ]
  },
  {
   "cell_type": "code",
   "execution_count": null,
   "metadata": {
    "collapsed": false
   },
   "outputs": [],
   "source": [
    "query <- my.data( \n",
    "    query          = queryExample,\n",
    "    url            = \"https://ssc.hms.harvard.edu/\", \n",
    "    responseFormat = \"CSV\", \n",
    "    outputPath     = \"./dataSSC.txt\")"
   ]
  },
  {
   "cell_type": "code",
   "execution_count": null,
   "metadata": {
    "collapsed": false
   },
   "outputs": [],
   "source": [
    "head(query)"
   ]
  },
  {
   "cell_type": "markdown",
   "metadata": {},
   "source": [
    "## 1.5 Transform the data.frame in `cupcakeData` object\n",
    "\n",
    "Once the data is in a data.frame format, it has to be transformed into a `cupcakeData` class object in order to be analyzed with the `Rcupcake` package. Note that our example data contains:\n",
    "* 3 demographic variables: patient_id, Gender and Age. \n",
    "* 4 phenotype variables: head circumference, current compulsion, facial expression and loss of language.\n",
    "* 1 variation variable (here a mutation): CHD8\n",
    "\n",
    "In order to transform the data.frame into a `cupcakeData` object, we apply the `dataframe2cupcake` function. We need to specify:\n",
    "* `input`: that determines the file with the complete path where the required input file is located.\n",
    "* `phenotypes`: vector that contains phenotype variables, separated by \"|\".\n",
    "* `variants`: vector that contains the names of variations, separated by \"|\".\n",
    "* `age`: vector that contains the age variable name.\n",
    "* `gender`: vector that contains the gender variable name."
   ]
  },
  {
   "cell_type": "code",
   "execution_count": null,
   "metadata": {
    "collapsed": false
   },
   "outputs": [],
   "source": [
    "data2b2 <- dataframe2cupcake( input = \"./dataSSC.txt\",\n",
    "                              age        = \"AGE\",\n",
    "                              gender     = \"SEX_CD\",\n",
    "                              phenotypes = \"head_circumference|q70_compulsions_current|q57_facial_expressions_current|q11_loss_language\",\n",
    "                              variants   = \"CHD8\",\n",
    "                              verbose    = TRUE)\n",
    "data2b2"
   ]
  },
  {
   "cell_type": "markdown",
   "metadata": {},
   "source": [
    "The data2b2 object generated is a `cupcakeData` object that shows the number of patients (2,509 in this case), the number of phenotypes we are studying (4 in this case) and the number of variations (1 in this case). In order to see how the data looks like, we can apply the `extract` function as follows."
   ]
  },
  {
   "cell_type": "code",
   "execution_count": null,
   "metadata": {
    "collapsed": false
   },
   "outputs": [],
   "source": [
    "head( extract( data2b2 ) )"
   ]
  },
  {
   "cell_type": "markdown",
   "metadata": {},
   "source": [
    "# 2. Descriptive demographics analysis with __Rcupcake__\n",
    "\n",
    "\n",
    "Now that we have extracted the data, we can start our analysis. We will first analyze the demographic variables. The function `demographic.summary` describes the demographic characteristics (sex, age) of our study population\n",
    "Using as input:\n",
    "* `input`: the data2b2 object that we have generated applying the `dataframe2cupcake` function.\n",
    "* `maleCode`: the symbol which denotes males, in this case `MALE`\n",
    "* `femaleCode`: the symbol which denotes females, in this case `FEMALE`\n",
    "\n",
    "As output we retrieve:\n",
    "* A barplot with the age distribution of the whole study population. We can see that our population ages range from 4 to 18 years old.\n",
    "* A pie chart that represents the gender distribution. A boxplot that represents the age distribution by gender."
   ]
  },
  {
   "cell_type": "code",
   "execution_count": null,
   "metadata": {
    "collapsed": false
   },
   "outputs": [],
   "source": [
    "demographic.summary (input       = data2b2, \n",
    "                    maleCode    = \"MALE\", \n",
    "                    femaleCode  =\"FEMALE\")\n",
    "summary(as.numeric(data2b2@iresult$Age))"
   ]
  },
  {
   "cell_type": "markdown",
   "metadata": {},
   "source": [
    "# 3. Descriptive phenotypic analysis with __Rcupcake__\n",
    "\n",
    "The function `phenotype.summary` performs a descriptive analysis of the phenotypic variables for the whole study population in general, and according to the status of one selected variation.\n",
    "\n",
    "The `phenotype.summary` function requires 2 arguments:\n",
    "* `input`: the data2b2 object, that is a cupcakeData object (`dataframe2cupcake` function output – see above).\n",
    "* `variation`: determines the variation of interest, in this case the mutation of interest (\"CHD8\").\n",
    "\n",
    "Although the function can show the results as figures and tables, for this case study, we will only retrieve the table for this case study. We will set the showTable argument to `TRUE` and the showFigure one to `FALSE`.\n"
   ]
  },
  {
   "cell_type": "code",
   "execution_count": null,
   "metadata": {
    "collapsed": false
   },
   "outputs": [],
   "source": [
    "kable(phenotype.summary( input      = data2b2,\n",
    "                         variation  = \"CHD8\", \n",
    "                         showTable  = TRUE, \n",
    "                         showFigure = FALSE), \n",
    "      format = \"rst\")"
   ]
  },
  {
   "cell_type": "markdown",
   "metadata": {},
   "source": [
    "# 4. Univariate analysis with __Rcupcake__\n",
    "\n",
    "The Rcupcake package also allows to perform a comparison two by two of a pair of variables in the `cupcakeData` object by applying the `comparison2b2` function. Applying this function we can easily see that:\n",
    "* head circumference and age are significantly associated (p-value < 2.2e-16), as expected\n",
    "* head circumference and de novo CHD8 mutation are significantly (p-value = 0.007204)\n"
   ]
  },
  {
   "cell_type": "code",
   "execution_count": null,
   "metadata": {
    "collapsed": false
   },
   "outputs": [],
   "source": [
    "comparison2b2( \n",
    "    input     = data2b2, \n",
    "    variable1 = \"P.head_circumference\",\n",
    "    variable2 = \"Age\"\n",
    ")"
   ]
  },
  {
   "cell_type": "code",
   "execution_count": null,
   "metadata": {
    "collapsed": false
   },
   "outputs": [],
   "source": [
    "comparison2b2( \n",
    "    input     = data2b2, \n",
    "    variable1 = \"V.CHD8\",\n",
    "    variable2 = \"P.head_circumference\"\n",
    ")"
   ]
  },
  {
   "cell_type": "markdown",
   "metadata": {},
   "source": [
    "# 5. Phenotypes co-occurrence and prevalence using __Rcupcake__: patients with at least one de novo mutation in CHD8 gene\n",
    "\n",
    "Finally, we will analyze the co-occurrence between the phenotypes according to CHD8 mutation status. We will apply the `co.occurrence` function that identifies all the possible phenotype co-occurrence and quantify them according to five different quantification measures (Fisher test, comorbidity score, relative risk, Pearson correlation and odds ratio).\n",
    "\n",
    "__Note that according to the type of study, the user can select the co-occurrence measures needed as well as the cut-off value. As a result of the phenotype co-occurrence analysis, a table containing the different-estimated measurements is obtained.__\n",
    "\n",
    "The `co.occurrence` function requires 6 arguments:\n",
    "* `input`: the `cupcakeData` object, the data2b2 in this case.\n",
    "* `pth`: the path where the file with the phenotype values generated previously is located.\n",
    "* `aggregate`: if all the possible phenotype values want to be considered individually, aggregate must be `FALSE`. Otherwhise, the phenotype values should be manually completed by the user (column yes/no) and aggregate must be `TRUE`. In our case, we will set this argument as `FALSE`.\n",
    "* `ageRange`: determines what is the age range of interest for performing the analysis. In our case, we will select all the patients, so we set from 4 to 18, \n",
    "* `gender`: determine what is the gender of interest for the co-occurrence analysis, in this case \"ALL\", because we do not want to distinguish between male and female.\n",
    "* `variation`: determine the variation of interest and its value, in this case CHD8 and yes, because we are interested in those patients that have at least one de novo mutation in CHD8 gene.\n",
    "\n",
    "The `co.occurrence` function output is a `cupcakeResults` object. This object shows us the conditions we have selected for the analysis (male and female from 4 to 18 years old and with at least one de novo CHD8 mutation). It also shows us a summary of the phenotype co-occurrence results, the prevalence of our disease of interest, the number of patients that have at least one de novo CHD8 mutation, the range of co-occurrence measures and the number of comorbidities (12 in our case).\n"
   ]
  },
  {
   "cell_type": "code",
   "execution_count": null,
   "metadata": {
    "collapsed": false
   },
   "outputs": [],
   "source": [
    "comorCHD8yes <- co.occurrence( \n",
    "              input         = data2b2,\n",
    "              pth           = \".\",\n",
    "              aggregate    = FALSE, \n",
    "              ageRange      = c(4,18),\n",
    "              gender        = \"ALL\", \n",
    "              variation      = c(\"CHD8\", \"yes\")\n",
    "              )\n",
    "comorCHD8yes"
   ]
  },
  {
   "cell_type": "markdown",
   "metadata": {},
   "source": [
    "If we want to retrieve the table with the specific results for each phenotype co-occurrence, we can apply the `extract` function to the `cupcakeResults` as showed here:"
   ]
  },
  {
   "cell_type": "code",
   "execution_count": null,
   "metadata": {
    "collapsed": false
   },
   "outputs": [],
   "source": [
    "head( extract( comorCHD8yes ) )"
   ]
  },
  {
   "cell_type": "markdown",
   "metadata": {},
   "source": [
    "We can visualize the results with the `cooc.heatmap` and `cooc.network` functions. For this example, we will apply the `cooc.heatmap` function to visualize those phenotype co-occurrences that appear in at least 10% of the patients.\n",
    "\n",
    "The `cooc.heatmap` function requires 3 arguments:\n",
    "* `input`: the `comorCHD8yes` object\n",
    "* `representedVariable`: the co-occurrence measurement\n",
    "* `variableCutOff`: the numeric value of the cutOff\n",
    "\n",
    "The `cooc.heatmap` function output is a heatmap. Blue color represents the lower values, yellow color represents the upper values. The representedVariable value is shown in each cell."
   ]
  },
  {
   "cell_type": "code",
   "execution_count": null,
   "metadata": {
    "collapsed": false
   },
   "outputs": [],
   "source": [
    "heatmapCHD8yes <- cooc.heatmap( input               = comorCHD8yes,\n",
    "                                representedVariable = \"PercentagePhenoAB\", \n",
    "                                variableCutOff      = 10, \n",
    "                                lowColor            = \"blue\", \n",
    "                                highColor           = \"yellow\")\n",
    "\n",
    "heatmapCHD8yes"
   ]
  },
  {
   "cell_type": "markdown",
   "metadata": {},
   "source": [
    "The same analysis can be done to the group of patients that do not have the novo mutation in the CHD8 gene."
   ]
  },
  {
   "cell_type": "code",
   "execution_count": null,
   "metadata": {
    "collapsed": false
   },
   "outputs": [],
   "source": [
    "comorCHD8no <- co.occurrence( \n",
    "              input        = data2b2,\n",
    "              pth          = \".\",\n",
    "              aggregate    = FALSE, \n",
    "              ageRange     = c(4,18),\n",
    "              gender       = \"ALL\", \n",
    "              variation    = c(\"CHD8\", \"no\")\n",
    "              )\n",
    "comorCHD8no"
   ]
  },
  {
   "cell_type": "code",
   "execution_count": null,
   "metadata": {
    "collapsed": false
   },
   "outputs": [],
   "source": [
    "heatmapCHD8no <- cooc.heatmap( input                = comorCHD8no,\n",
    "                                representedVariable = \"PercentagePhenoAB\", \n",
    "                                variableCutOff      = 10, \n",
    "                                lowColor            = \"blue\", \n",
    "                                highColor           = \"yellow\")\n",
    "\n",
    "heatmapCHD8no"
   ]
  }
 ],
 "metadata": {
  "kernelspec": {
   "display_name": "R",
   "language": "R",
   "name": "ir"
  },
  "language_info": {
   "codemirror_mode": "r",
   "file_extension": ".r",
   "mimetype": "text/x-r-source",
   "name": "R",
   "pygments_lexer": "r",
   "version": "3.3.1"
  }
 },
 "nbformat": 4,
 "nbformat_minor": 1
}
